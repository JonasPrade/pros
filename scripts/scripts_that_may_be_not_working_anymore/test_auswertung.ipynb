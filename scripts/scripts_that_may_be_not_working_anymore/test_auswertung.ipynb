{
 "cells": [
  {
   "cell_type": "raw",
   "metadata": {},
   "source": [
    "from IPython.display import Markdown as md\n",
    "from prosd.models import MasterScenario\n",
    "\n",
    "scenario_id = 4\n",
    "scenario = MasterScenario.query.get(scenario_id)\n",
    "\n",
    "md(f\"# Auswertung Szenario {scenario_id}\")"
   ]
  }
 ],
 "metadata": {
  "kernelspec": {
   "display_name": "Python 3 (ipykernel)",
   "language": "python",
   "name": "python3"
  },
  "language_info": {
   "codemirror_mode": {
    "name": "ipython",
    "version": 3
   },
   "file_extension": ".py",
   "mimetype": "text/x-python",
   "name": "python",
   "nbconvert_exporter": "python",
   "pygments_lexer": "ipython3",
   "version": "3.10.4"
  }
 },
 "nbformat": 4,
 "nbformat_minor": 4
}
